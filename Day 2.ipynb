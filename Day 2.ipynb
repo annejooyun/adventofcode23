{
 "cells": [
  {
   "cell_type": "code",
   "execution_count": 1,
   "id": "e2b72372-6af5-43ae-8bae-79afd3521696",
   "metadata": {},
   "outputs": [],
   "source": [
    "# Import key libraries and paths\n",
    "import warnings\n",
    "warnings.filterwarnings(\"ignore\")\n",
    "import numpy as np\n",
    "import pandas as pd"
   ]
  },
  {
   "cell_type": "code",
   "execution_count": 1,
   "id": "697210e4-deb2-41a1-8efd-81474d4dfd31",
   "metadata": {},
   "outputs": [],
   "source": [
    "path = 'C:/Users/Anne Joo Marthinsen/Documents/GitHub/adventofcode23'\n",
    "with open('day2-cubes.txt') as f:\n",
    "    lines = f.readlines()\n"
   ]
  },
  {
   "cell_type": "code",
   "execution_count": 38,
   "id": "b00decfb-e026-494c-b889-55f7ba02e36f",
   "metadata": {},
   "outputs": [],
   "source": [
    "arr = np.zeros((3,100))"
   ]
  },
  {
   "cell_type": "code",
   "execution_count": 64,
   "id": "2890aa45-98e2-4020-aff8-a4250366e496",
   "metadata": {},
   "outputs": [],
   "source": [
    "for liness in lines:\n",
    "    \n",
    "    line = liness.split(':')\n",
    "    game_nr = int(line[0][5:])\n",
    "    \n",
    "    game = line[1]\n",
    "    turns = game.split(';')\n",
    "    #print(f'Turns: {turns}')\n",
    "    \n",
    "    for turn in turns:\n",
    "        rounds = turn.split(',')\n",
    "        #print(f'rounds: {rounds}')\n",
    "        for round in rounds:\n",
    "            #print(f'round: {round}')\n",
    "            color = round[1:].split(' ')\n",
    "            num = int(color[0])\n",
    "            color_type = color[1]\n",
    "            if 'red' in color_type and arr[0, game_nr-1] < num:\n",
    "                arr[0, game_nr-1] = num\n",
    "            elif 'green' in color_type and arr[1, game_nr-1] < num:\n",
    "                arr[1, game_nr-1] = num\n",
    "            elif 'blue' in color_type and arr[2, game_nr-1] < num:\n",
    "                arr[2, game_nr-1] = num   \n"
   ]
  },
  {
   "cell_type": "code",
   "execution_count": 59,
   "id": "d9ddcefb-2452-44dd-897a-47b8b0ebe190",
   "metadata": {},
   "outputs": [
    {
     "name": "stdout",
     "output_type": "stream",
     "text": [
      "[[ 7. 11. 12. 16. 19.  3. 12.  8. 14. 17. 14.  3. 13. 16. 10. 10.  2. 12.\n",
      "  10. 17.  7. 10.  8.  4.  3.  7. 10. 11.  7.  2.  7.  9. 15.  4.  5.  9.\n",
      "  10.  3.  6. 20.  9. 10.  9.  1.  1. 10.  3.  7. 14.  7.  7.  7. 16. 16.\n",
      "   6. 14.  6.  9.  6. 14.  9.  8. 14.  1. 12.  2. 16. 11.  9.  3. 14. 14.\n",
      "   8. 17.  5. 12.  9. 16.  2. 13. 11.  7. 14. 17.  6.  9. 14.  4.  8.  9.\n",
      "  10.  4. 10. 10.  6. 12.  7.  8. 11. 12.]\n",
      " [ 9.  3. 12.  4.  2. 14. 18. 11.  9.  1. 10. 17. 19.  8.  2.  9.  8.  8.\n",
      "  10.  9.  5. 10.  6.  7.  5. 11.  5.  3. 19.  5.  7.  7.  2. 17.  8.  9.\n",
      "  12.  4. 15. 14.  5.  6.  2.  5. 11. 20.  4.  6. 16.  4. 11. 13.  7.  3.\n",
      "   6. 14. 11.  6. 12. 16. 18. 11.  5.  4.  6.  2.  7.  1.  8. 12.  5.  6.\n",
      "   4.  1. 20.  8. 12.  9.  8. 10. 14. 13.  8. 16. 11.  5. 15. 13. 15.  2.\n",
      "  14. 12.  3.  1.  2.  1. 14.  2. 19.  1.]\n",
      " [ 8.  8.  2.  2.  1. 10. 19.  9. 12.  8. 14.  8. 10.  7. 16. 12.  7.  8.\n",
      "  17. 20.  1. 20. 15. 11.  5.  5.  8. 10. 15. 12.  8.  3. 19.  3.  5. 13.\n",
      "   5.  2. 17. 10.  3. 16.  8. 15.  5. 10.  5. 14. 11.  2.  3.  2.  1.  4.\n",
      "   2. 14.  6. 12. 11.  2. 19.  2. 14. 15.  3. 14. 15. 11.  9. 10.  7.  1.\n",
      "   6.  3. 16.  9. 12. 14.  4. 14.  6.  6.  2. 14.  2.  8. 10.  4.  1. 15.\n",
      "  20.  7.  2.  1. 10. 18.  5. 12.  7. 11.]]\n"
     ]
    }
   ],
   "source": [
    "print(arr)        "
   ]
  },
  {
   "cell_type": "code",
   "execution_count": 62,
   "id": "2b8d47c8-e6ac-43b0-8986-bf8e0ae3d404",
   "metadata": {},
   "outputs": [
    {
     "name": "stdout",
     "output_type": "stream",
     "text": [
      "2679\n"
     ]
    }
   ],
   "source": [
    "tot = 0\n",
    "\n",
    "for i in range(100):\n",
    "    #limit: 12 red cubes, 13 green cubes, and 14 blue cubes\n",
    "    if arr[0][i] > 12 or arr[1][i] > 13 or arr[2][i] > 14:\n",
    "        continue\n",
    "    else:\n",
    "        tot += i+1\n",
    "\n",
    "print(tot)"
   ]
  },
  {
   "cell_type": "code",
   "execution_count": 67,
   "id": "8d49e027-2d5c-4f40-ab22-b4968fae20fe",
   "metadata": {},
   "outputs": [
    {
     "name": "stdout",
     "output_type": "stream",
     "text": [
      "77607.0\n"
     ]
    }
   ],
   "source": [
    "tot = 0\n",
    "\n",
    "for i in range(100):\n",
    "    power = arr[0][i]*arr[1][i]*arr[2][i]\n",
    "    tot += power\n",
    "\n",
    "print(tot)"
   ]
  }
 ],
 "metadata": {
  "kernelspec": {
   "display_name": "Python 3 (ipykernel)",
   "language": "python",
   "name": "python3"
  },
  "language_info": {
   "codemirror_mode": {
    "name": "ipython",
    "version": 3
   },
   "file_extension": ".py",
   "mimetype": "text/x-python",
   "name": "python",
   "nbconvert_exporter": "python",
   "pygments_lexer": "ipython3",
   "version": "3.11.6"
  }
 },
 "nbformat": 4,
 "nbformat_minor": 5
}
