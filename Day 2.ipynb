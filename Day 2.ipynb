{
 "cells": [
  {
   "cell_type": "code",
   "execution_count": 1,
   "id": "e2b72372-6af5-43ae-8bae-79afd3521696",
   "metadata": {},
   "outputs": [],
   "source": [
    "# Import key libraries and paths\n",
    "import warnings\n",
    "warnings.filterwarnings(\"ignore\")\n",
    "import numpy as np\n",
    "import pandas as pd"
   ]
  },
  {
   "cell_type": "code",
   "execution_count": 2,
   "id": "697210e4-deb2-41a1-8efd-81474d4dfd31",
   "metadata": {},
   "outputs": [],
   "source": [
    "path = 'C:/Users/Anne Joo Marthinsen/Documents/GitHub/adventofcode23'\n",
    "with open('day2-cubes.txt') as f:\n",
    "    lines = f.readlines()\n"
   ]
  },
  {
   "cell_type": "code",
   "execution_count": 3,
   "id": "b00decfb-e026-494c-b889-55f7ba02e36f",
   "metadata": {},
   "outputs": [],
   "source": [
    "arr = np.zeros((3,100))"
   ]
  },
  {
   "cell_type": "code",
   "execution_count": 4,
   "id": "2890aa45-98e2-4020-aff8-a4250366e496",
   "metadata": {},
   "outputs": [],
   "source": [
    "for liness in lines:\n",
    "    \n",
    "    line = liness.split(':')\n",
    "    game_nr = int(line[0][5:])\n",
    "    \n",
    "    game = line[1]\n",
    "    turns = game.split(';')\n",
    "    #print(f'Turns: {turns}')\n",
    "    \n",
    "    for turn in turns:\n",
    "        rounds = turn.split(',')\n",
    "        #print(f'rounds: {rounds}')\n",
    "        for round in rounds:\n",
    "            #print(f'round: {round}')\n",
    "            color = round[1:].split(' ')\n",
    "            num = int(color[0])\n",
    "            color_type = color[1]\n",
    "            if 'red' in color_type and arr[0, game_nr-1] < num:\n",
    "                arr[0, game_nr-1] = num\n",
    "            elif 'green' in color_type and arr[1, game_nr-1] < num:\n",
    "                arr[1, game_nr-1] = num\n",
    "            elif 'blue' in color_type and arr[2, game_nr-1] < num:\n",
    "                arr[2, game_nr-1] = num   \n"
   ]
  },
  {
   "cell_type": "code",
   "execution_count": 5,
   "id": "d9ddcefb-2452-44dd-897a-47b8b0ebe190",
   "metadata": {},
   "outputs": [
    {
     "name": "stdout",
     "output_type": "stream",
     "text": [
      "[[ 1.  2. 14. 20.  4.  4.  3.  9. 18.  5. 15. 18.  1. 11. 15.  4.  3. 14.\n",
      "   3. 13. 20.  4. 19. 12.  6. 18. 15. 19. 19. 13. 17. 18.  4.  9. 16. 11.\n",
      "   7.  9. 18. 12. 10. 12.  8. 19.  5.  9. 14.  2.  2.  7. 20.  1. 11.  3.\n",
      "  12.  8. 18.  8.  2.  4.  8. 10.  7.  6. 12.  5. 18.  9.  8. 12.  9.  5.\n",
      "   3.  4. 10. 16.  7. 11. 14.  8. 14.  2. 11.  8. 14. 14.  8. 12.  7.  8.\n",
      "   2. 14. 16.  9.  7.  1.  2.  5. 17. 14.]\n",
      " [ 2. 10.  9. 14.  8. 10. 14.  5. 12.  8. 10.  4.  3.  4.  3.  3.  2.  2.\n",
      "  18. 10. 14.  6. 17.  1. 11. 13.  3.  9. 10.  1. 11. 17.  3. 10. 12.  9.\n",
      "  19.  5.  5. 11.  2.  6.  4. 13.  6. 10.  3. 14.  5. 10. 15. 12. 16. 11.\n",
      "   4. 15. 20. 18. 17. 13.  1.  4.  6.  5. 20.  4. 18.  7. 12. 11.  2.  4.\n",
      "   7.  4. 14.  2. 12. 15. 13. 12. 12. 11. 13. 16. 10. 18.  4.  6.  3. 13.\n",
      "  16.  8.  5.  2.  4. 11. 13.  2.  4. 14.]\n",
      " [ 4. 18.  5. 10. 15.  6.  5.  5.  8.  2. 10. 13.  7. 18. 10.  2. 14.  8.\n",
      "  11.  4.  8. 11.  2.  1. 14. 13. 12.  5.  6. 12. 18.  7. 16. 15. 10.  7.\n",
      "  14. 13.  6. 20.  2.  3.  2.  4. 10. 12.  2. 13. 10.  3. 11.  3. 12.  9.\n",
      "  13. 12. 14. 15.  3.  4. 10.  8.  5. 20.  9. 13. 16.  1. 13. 14. 10.  6.\n",
      "   1.  8. 12.  1. 15. 11.  6.  8.  4.  2. 12.  5. 20.  5. 13.  9.  1. 12.\n",
      "   5. 14.  3.  3. 15. 14.  9.  4.  6.  2.]]\n"
     ]
    }
   ],
   "source": [
    "print(arr)        "
   ]
  },
  {
   "cell_type": "code",
   "execution_count": 6,
   "id": "2b8d47c8-e6ac-43b0-8986-bf8e0ae3d404",
   "metadata": {},
   "outputs": [
    {
     "name": "stdout",
     "output_type": "stream",
     "text": [
      "2486\n"
     ]
    }
   ],
   "source": [
    "tot = 0\n",
    "\n",
    "for i in range(100):\n",
    "    #limit: 12 red cubes, 13 green cubes, and 14 blue cubes\n",
    "    if arr[0][i] > 12 or arr[1][i] > 13 or arr[2][i] > 14:\n",
    "        continue\n",
    "    else:\n",
    "        tot += i+1\n",
    "\n",
    "print(tot)"
   ]
  },
  {
   "cell_type": "code",
   "execution_count": 7,
   "id": "8d49e027-2d5c-4f40-ab22-b4968fae20fe",
   "metadata": {},
   "outputs": [
    {
     "name": "stdout",
     "output_type": "stream",
     "text": [
      "87984.0\n"
     ]
    }
   ],
   "source": [
    "tot = 0\n",
    "\n",
    "for i in range(100):\n",
    "    power = arr[0][i]*arr[1][i]*arr[2][i]\n",
    "    tot += power\n",
    "\n",
    "print(tot)"
   ]
  }
 ],
 "metadata": {
  "kernelspec": {
   "display_name": "Python 3 (ipykernel)",
   "language": "python",
   "name": "python3"
  },
  "language_info": {
   "codemirror_mode": {
    "name": "ipython",
    "version": 3
   },
   "file_extension": ".py",
   "mimetype": "text/x-python",
   "name": "python",
   "nbconvert_exporter": "python",
   "pygments_lexer": "ipython3",
   "version": "3.11.5"
  }
 },
 "nbformat": 4,
 "nbformat_minor": 5
}
