{
 "cells": [
  {
   "cell_type": "code",
   "execution_count": 1,
   "id": "08245933-6cf9-4a1e-a46f-e1fb295c1882",
   "metadata": {},
   "outputs": [],
   "source": [
    "# Import key libraries and paths\n",
    "import warnings\n",
    "warnings.filterwarnings(\"ignore\")\n",
    "import numpy as np\n",
    "import pandas as pd"
   ]
  },
  {
   "cell_type": "code",
   "execution_count": 2,
   "id": "12c88519-4a10-45bf-af27-c5e6e2a93751",
   "metadata": {},
   "outputs": [],
   "source": [
    "#path = 'C:/Users/Anne Joo Marthinsen/Documents/GitHub/adventofcode'\n",
    "path = 'C:/Users/annej/OneDrive/Documents/GitHub/adventofcode23'\n",
    "with open('day6-races.txt') as f:\n",
    "    lines = f.readlines()"
   ]
  },
  {
   "cell_type": "code",
   "execution_count": 3,
   "id": "f4c4c5b5-4218-480b-8564-bba5e5a73fd3",
   "metadata": {},
   "outputs": [
    {
     "name": "stdout",
     "output_type": "stream",
     "text": [
      "[45, 98, 83, 73]\n",
      "[295, 1734, 1278, 1210]\n"
     ]
    }
   ],
   "source": [
    "def get_numbers():\n",
    "    times = []\n",
    "    distances = []\n",
    "    for i in range(len(lines)):\n",
    "        line = lines[i]\n",
    "        category, numbers = line.split(':')\n",
    "        numbers = numbers.split(' ')\n",
    "        for num in numbers:\n",
    "            if num == '' or num == '\\n':\n",
    "                continue\n",
    "            else:\n",
    "                if i == 0:\n",
    "                    times.append(int(num))\n",
    "                elif i == 1:\n",
    "                    distances.append(int(num))\n",
    "    return times, distances\n",
    "\n",
    "\n",
    "times, distances = get_numbers()\n",
    "\n",
    "print(times)\n",
    "print(distances)"
   ]
  },
  {
   "cell_type": "code",
   "execution_count": 8,
   "id": "87019249-e61d-4d05-bc9f-a0f6113d882f",
   "metadata": {},
   "outputs": [
    {
     "name": "stdout",
     "output_type": "stream",
     "text": [
      "1413720\n"
     ]
    }
   ],
   "source": [
    "def calculate_num_wins(time, distance):\n",
    "    tot_wins = 0\n",
    "    for i in range(time+1):\n",
    "        # i signifies time held on the button and thus speed\n",
    "        if (time-i)*i > distance:\n",
    "            tot_wins += 1\n",
    "    return tot_wins\n",
    "\n",
    "answer = 1\n",
    "for i in range(len(times)):\n",
    "    answer *= calculate_num_wins(times[i], distances[i])\n",
    "\n",
    "print(answer)"
   ]
  },
  {
   "cell_type": "code",
   "execution_count": 9,
   "id": "64820294-60dc-4891-b264-74b959e8dc0e",
   "metadata": {},
   "outputs": [],
   "source": [
    "def calculate_num_wins_p2(time, distance):\n",
    "    tot_wins = 0\n",
    "    for i in range(14,71516):\n",
    "        # i signifies time held on the button and thus speed\n",
    "        if (time-i)*i > distance:\n",
    "            tot_wins += 1\n",
    "    return tot_wins"
   ]
  },
  {
   "cell_type": "code",
   "execution_count": 14,
   "id": "897e2dd3-19d7-46a8-ab18-928d16c02ff2",
   "metadata": {},
   "outputs": [
    {
     "name": "stdout",
     "output_type": "stream",
     "text": [
      "30565288\n"
     ]
    }
   ],
   "source": [
    "answer = calculate_num_wins(45988373, 295173412781210)\n",
    "print(answer)"
   ]
  }
 ],
 "metadata": {
  "kernelspec": {
   "display_name": "Python 3 (ipykernel)",
   "language": "python",
   "name": "python3"
  },
  "language_info": {
   "codemirror_mode": {
    "name": "ipython",
    "version": 3
   },
   "file_extension": ".py",
   "mimetype": "text/x-python",
   "name": "python",
   "nbconvert_exporter": "python",
   "pygments_lexer": "ipython3",
   "version": "3.11.6"
  }
 },
 "nbformat": 4,
 "nbformat_minor": 5
}
