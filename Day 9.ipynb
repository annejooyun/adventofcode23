{
 "cells": [
  {
   "cell_type": "code",
   "execution_count": 194,
   "metadata": {},
   "outputs": [],
   "source": [
    "# Import key libraries and paths\n",
    "import warnings\n",
    "warnings.filterwarnings(\"ignore\")\n",
    "import numpy as np\n",
    "import pandas as pd"
   ]
  },
  {
   "cell_type": "code",
   "execution_count": 195,
   "metadata": {},
   "outputs": [],
   "source": [
    "#path = 'C:/Users/Anne Joo Marthinsen/Documents/GitHub/adventofcode'\n",
    "path = 'C:/Users/annej/OneDrive/Documents/GitHub/adventofcode23'\n",
    "with open('day9-values.txt') as f:\n",
    "    lines = f.readlines()"
   ]
  },
  {
   "cell_type": "code",
   "execution_count": 196,
   "metadata": {},
   "outputs": [],
   "source": [
    "def line_to_arr(line):\n",
    "    integer_list = list(map(int, line.split()))\n",
    "    return(integer_list)"
   ]
  },
  {
   "cell_type": "code",
   "execution_count": 197,
   "metadata": {},
   "outputs": [],
   "source": [
    "def diff_chain(chain):\n",
    "    diff_chan_arr = []\n",
    "    for i in range(len(chain)-1):\n",
    "        diff_chan_arr.append(chain[i+1] - chain[i])\n",
    "    return diff_chan_arr\n"
   ]
  },
  {
   "cell_type": "code",
   "execution_count": 198,
   "metadata": {},
   "outputs": [
    {
     "name": "stdout",
     "output_type": "stream",
     "text": [
      "1980437560\n"
     ]
    }
   ],
   "source": [
    "last_element = []\n",
    "\n",
    "for line in lines:\n",
    "    line_arr = line_to_arr(line)\n",
    "\n",
    "    #print(line_arr)\n",
    "\n",
    "    while any(element != 0 for element in line_arr):\n",
    "        last_element.append(line_arr[-1])\n",
    "        line_arr = diff_chain(line_arr)\n",
    "\n",
    "        #print(line_arr)\n",
    "\n",
    "\n",
    "print(sum(last_element))"
   ]
  },
  {
   "cell_type": "code",
   "execution_count": 199,
   "metadata": {},
   "outputs": [
    {
     "name": "stdout",
     "output_type": "stream",
     "text": [
      "977\n"
     ]
    }
   ],
   "source": [
    "tot = 0\n",
    "\n",
    "for line in lines:\n",
    "    first_element = []\n",
    "    line_arr = line_to_arr(line)\n",
    "\n",
    "    #print(line_arr)\n",
    "\n",
    "    while any(element != 0 for element in line_arr):\n",
    "        first_element.append(line_arr[0])\n",
    "        line_arr = diff_chain(line_arr)\n",
    "\n",
    "    #print(first_element)\n",
    "\n",
    "    first_element_reversed = first_element[::-1]\n",
    "\n",
    "\n",
    "    line_tot = 0\n",
    "    for i in range(len(first_element_reversed)):\n",
    "        line_tot = first_element_reversed[i]-line_tot\n",
    "    tot += line_tot\n",
    "\n",
    "print(tot)\n"
   ]
  }
 ],
 "metadata": {
  "kernelspec": {
   "display_name": "Python 3",
   "language": "python",
   "name": "python3"
  },
  "language_info": {
   "codemirror_mode": {
    "name": "ipython",
    "version": 3
   },
   "file_extension": ".py",
   "mimetype": "text/x-python",
   "name": "python",
   "nbconvert_exporter": "python",
   "pygments_lexer": "ipython3",
   "version": "3.11.9"
  }
 },
 "nbformat": 4,
 "nbformat_minor": 2
}
