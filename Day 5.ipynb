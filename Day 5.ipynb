{
 "cells": [
  {
   "cell_type": "code",
   "execution_count": 1,
   "id": "5f94b1fc-3598-4fdb-989e-b743ca7b4935",
   "metadata": {},
   "outputs": [],
   "source": [
    "# Import key libraries and paths\n",
    "import warnings\n",
    "warnings.filterwarnings(\"ignore\")\n",
    "import numpy as np\n",
    "import pandas as pd"
   ]
  },
  {
   "cell_type": "code",
   "execution_count": 2,
   "id": "18f03a2f-8951-4e52-aa91-49f3fbaf5db3",
   "metadata": {},
   "outputs": [],
   "source": [
    "#path = 'C:/Users/Anne Joo Marthinsen/Documents/GitHub/adventofcode'\n",
    "path = 'C:/Users/annej/OneDrive/Documents/GitHub/adventofcode23'\n",
    "with open('day5-seeds_ex.txt') as f:\n",
    "    lines = f.readlines()\n"
   ]
  },
  {
   "cell_type": "code",
   "execution_count": 3,
   "id": "df84207e-e6a6-4726-9759-8c2a3e96552b",
   "metadata": {},
   "outputs": [],
   "source": [
    "seeds = [79, 14, 55, 13]"
   ]
  },
  {
   "cell_type": "code",
   "execution_count": 32,
   "id": "3f6a37e4-be8c-4e7a-bee5-9db24e98159a",
   "metadata": {},
   "outputs": [
    {
     "name": "stdout",
     "output_type": "stream",
     "text": [
      "Line is: seed-to-soil map:\n",
      "\n",
      "[50, 98, 2]\n",
      "[52, 50, 48]\n",
      "Line is: soil-to-fertilizer map:\n",
      "\n",
      "[0, 15, 37]\n",
      "[37, 52, 2]\n",
      "[39, 0, 15]\n",
      "Line is: fertilizer-to-water map:\n",
      "\n",
      "[49, 53, 8]\n",
      "[0, 11, 42]\n",
      "[42, 0, 7]\n",
      "[57, 7, 4]\n",
      "Line is: water-to-light map:\n",
      "\n",
      "[88, 18, 7]\n",
      "[18, 25, 70]\n",
      "Line is: light-to-temperature map:\n",
      "\n",
      "[45, 77, 23]\n",
      "[81, 45, 19]\n",
      "[68, 64, 13]\n",
      "Line is: temperature-to-humidity map:\n",
      "\n",
      "[0, 69, 1]\n",
      "[1, 0, 69]\n",
      "Line is: humidity-to-location map:\n",
      "\n",
      "[60, 56, 37]\n",
      "[56, 93, 4]\n"
     ]
    }
   ],
   "source": [
    "for line in lines: \n",
    "    if line == '\\n':\n",
    "        continue\n",
    "    else:\n",
    "        if ':' in line:\n",
    "            print(f'Line is: {line}')\n",
    "        else:\n",
    "            #print(line)\n",
    "            map = line.split(' ')\n",
    "            map_arr = []\n",
    "            for elem in map:\n",
    "                map_arr.append(int(elem))\n",
    "\n",
    "            print(map_arr)\n"
   ]
  }
 ],
 "metadata": {
  "kernelspec": {
   "display_name": "Python 3 (ipykernel)",
   "language": "python",
   "name": "python3"
  },
  "language_info": {
   "codemirror_mode": {
    "name": "ipython",
    "version": 3
   },
   "file_extension": ".py",
   "mimetype": "text/x-python",
   "name": "python",
   "nbconvert_exporter": "python",
   "pygments_lexer": "ipython3",
   "version": "3.11.6"
  }
 },
 "nbformat": 4,
 "nbformat_minor": 5
}
