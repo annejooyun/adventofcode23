{
 "cells": [
  {
   "cell_type": "code",
   "execution_count": 1,
   "id": "c6d0fc4e-e67c-4e98-9fff-5f88de6e5dbb",
   "metadata": {},
   "outputs": [],
   "source": [
    "# Import key libraries and paths\n",
    "import warnings\n",
    "warnings.filterwarnings(\"ignore\")\n",
    "import numpy as np\n",
    "import pandas as pd"
   ]
  },
  {
   "cell_type": "code",
   "execution_count": 3,
   "id": "f9e88d78-5b65-4828-84ea-01b452261030",
   "metadata": {},
   "outputs": [],
   "source": [
    "path = 'C:/Users/Anne Joo Marthinsen/Documents/GitHub/adventofcode'\n",
    "with open('day4-scratch_cards_ex.txt') as f:\n",
    "    lines = f.readlines()\n"
   ]
  },
  {
   "cell_type": "code",
   "execution_count": 4,
   "id": "8dcbb48a-c6d1-473c-aceb-334224000e79",
   "metadata": {},
   "outputs": [
    {
     "name": "stdout",
     "output_type": "stream",
     "text": [
      "['Card 1: 41 48 83 86 17 | 83 86  6 31 17  9 48 53\\n', 'Card 2: 13 32 20 16 61 | 61 30 68 82 17 32 24 19\\n', 'Card 3:  1 21 53 59 44 | 69 82 63 72 16 21 14  1\\n', 'Card 4: 41 92 73 84 69 | 59 84 76 51 58  5 54 83\\n', 'Card 5: 87 83 26 28 32 | 88 30 70 12 93 22 82 36\\n', 'Card 6: 31 18 13 56 72 | 74 77 10 23 35 67 36 11']\n"
     ]
    }
   ],
   "source": [
    "print(lines)"
   ]
  },
  {
   "cell_type": "code",
   "execution_count": 39,
   "id": "7f90bf6d-31a8-41e3-93d1-18ab79634d98",
   "metadata": {},
   "outputs": [],
   "source": [
    "def str_list_to__int_array(string_):\n",
    "    string = string_.split(' ')\n",
    "    array = []\n",
    "    for elem in string:\n",
    "        if elem == ' ':\n",
    "            continue\n",
    "        else:\n",
    "            array.append(int(elem))\n",
    "    return array"
   ]
  },
  {
   "cell_type": "code",
   "execution_count": 40,
   "id": "41b8b21b-c861-4ad0-a130-1ec024ea64fd",
   "metadata": {},
   "outputs": [
    {
     "ename": "ValueError",
     "evalue": "invalid literal for int() with base 10: ''",
     "output_type": "error",
     "traceback": [
      "\u001b[1;31m---------------------------------------------------------------------------\u001b[0m",
      "\u001b[1;31mValueError\u001b[0m                                Traceback (most recent call last)",
      "Cell \u001b[1;32mIn[40], line 6\u001b[0m\n\u001b[0;32m      3\u001b[0m temp, elf_numbers_ \u001b[38;5;241m=\u001b[39m line\u001b[38;5;241m.\u001b[39msplit(\u001b[38;5;124m'\u001b[39m\u001b[38;5;124m|\u001b[39m\u001b[38;5;124m'\u001b[39m)\n\u001b[0;32m      4\u001b[0m card_number, winning_numbers_ \u001b[38;5;241m=\u001b[39m temp\u001b[38;5;241m.\u001b[39msplit(\u001b[38;5;124m'\u001b[39m\u001b[38;5;124m:\u001b[39m\u001b[38;5;124m'\u001b[39m)\n\u001b[1;32m----> 6\u001b[0m elf_numbers \u001b[38;5;241m=\u001b[39m \u001b[43mstr_list_to__int_array\u001b[49m\u001b[43m(\u001b[49m\u001b[43melf_numbers_\u001b[49m\u001b[43m)\u001b[49m\n\u001b[0;32m      7\u001b[0m winning_numbers \u001b[38;5;241m=\u001b[39m str_list_to__int_array(winning_numbers_)\n\u001b[0;32m     10\u001b[0m card_number \u001b[38;5;241m=\u001b[39m card_number[\u001b[38;5;241m4\u001b[39m:]\n",
      "Cell \u001b[1;32mIn[39], line 8\u001b[0m, in \u001b[0;36mstr_list_to__int_array\u001b[1;34m(string_)\u001b[0m\n\u001b[0;32m      6\u001b[0m         \u001b[38;5;28;01mcontinue\u001b[39;00m\n\u001b[0;32m      7\u001b[0m     \u001b[38;5;28;01melse\u001b[39;00m:\n\u001b[1;32m----> 8\u001b[0m         array\u001b[38;5;241m.\u001b[39mappend(\u001b[38;5;28;43mint\u001b[39;49m\u001b[43m(\u001b[49m\u001b[43melem\u001b[49m\u001b[43m)\u001b[49m)\n\u001b[0;32m      9\u001b[0m \u001b[38;5;28;01mreturn\u001b[39;00m array\n",
      "\u001b[1;31mValueError\u001b[0m: invalid literal for int() with base 10: ''"
     ]
    }
   ],
   "source": [
    "#for line in lines:\n",
    "line = lines[0]\n",
    "temp, elf_numbers_ = line.split('|')\n",
    "card_number, winning_numbers_ = temp.split(':')\n",
    "\n",
    "elf_numbers = str_list_to__int_array(elf_numbers_)\n",
    "winning_numbers = str_list_to__int_array(winning_numbers_)\n",
    "\n",
    "\n",
    "card_number = card_number[4:]\n",
    "i = 0\n",
    "for num in winning_numbers:\n",
    "    if num in elf_numbers:\n",
    "        i += 1\n",
    "i *= 2\n",
    "print (i)\n",
    "print(card_number)\n",
    "print(winning_numbers)\n",
    "print(elf_numbers)"
   ]
  }
 ],
 "metadata": {
  "kernelspec": {
   "display_name": "Python 3 (ipykernel)",
   "language": "python",
   "name": "python3"
  },
  "language_info": {
   "codemirror_mode": {
    "name": "ipython",
    "version": 3
   },
   "file_extension": ".py",
   "mimetype": "text/x-python",
   "name": "python",
   "nbconvert_exporter": "python",
   "pygments_lexer": "ipython3",
   "version": "3.11.6"
  }
 },
 "nbformat": 4,
 "nbformat_minor": 5
}
