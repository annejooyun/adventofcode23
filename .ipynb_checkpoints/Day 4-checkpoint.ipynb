{
 "cells": [
  {
   "cell_type": "code",
   "execution_count": 32,
   "id": "c6d0fc4e-e67c-4e98-9fff-5f88de6e5dbb",
   "metadata": {},
   "outputs": [],
   "source": [
    "# Import key libraries and paths\n",
    "import warnings\n",
    "warnings.filterwarnings(\"ignore\")\n",
    "import numpy as np\n",
    "import pandas as pd"
   ]
  },
  {
   "cell_type": "code",
   "execution_count": 34,
   "id": "f9e88d78-5b65-4828-84ea-01b452261030",
   "metadata": {},
   "outputs": [],
   "source": [
    "#path = 'C:/Users/Anne Joo Marthinsen/Documents/GitHub/adventofcode'\n",
    "path = 'C:/Users/annej/OneDrive/Documents/GitHub/adventofcode23'\n",
    "with open('day4-scratch_cards.txt') as f:\n",
    "    lines = f.readlines()\n"
   ]
  },
  {
   "cell_type": "code",
   "execution_count": 35,
   "id": "7f90bf6d-31a8-41e3-93d1-18ab79634d98",
   "metadata": {},
   "outputs": [],
   "source": [
    "def str_list_to__int_array(string_):\n",
    "    string = string_.split(' ')\n",
    "    array = []\n",
    "    for elem in string:\n",
    "        if elem == '':\n",
    "            continue\n",
    "        else:\n",
    "            array.append(int(elem))\n",
    "    return array"
   ]
  },
  {
   "cell_type": "code",
   "execution_count": 44,
   "id": "49ef7bbe-2e67-471c-9f10-8c992a039578",
   "metadata": {},
   "outputs": [],
   "source": [
    "num_winnings = np.ones((len(lines)))"
   ]
  },
  {
   "cell_type": "code",
   "execution_count": 45,
   "id": "41b8b21b-c861-4ad0-a130-1ec024ea64fd",
   "metadata": {},
   "outputs": [
    {
     "name": "stdout",
     "output_type": "stream",
     "text": [
      "9721255.0\n"
     ]
    }
   ],
   "source": [
    "tot = 0\n",
    "for line in lines:\n",
    "    temp, elf_numbers_ = line.split('|')\n",
    "    card_number, winning_numbers_ = temp.split(':')\n",
    "    \n",
    "    elf_numbers = str_list_to__int_array(elf_numbers_)\n",
    "    winning_numbers = str_list_to__int_array(winning_numbers_)\n",
    "    \n",
    "    card_number = int(card_number[4:])\n",
    "    card_index = card_number - 1\n",
    "    \n",
    "    times_won = 0\n",
    "    for num in winning_numbers:\n",
    "        if num in elf_numbers:\n",
    "            #print(f'{num} is a winning number')\n",
    "            times_won += 1\n",
    "\n",
    "    for i in range(card_index + 1, min(card_index + times_won+1,len(lines))):\n",
    "        num_winnings[i] += 1*num_winnings[card_index]\n",
    "        \n",
    "    \n",
    "    tot = np.sum(num_winnings)\n",
    "print(tot)"
   ]
  }
 ],
 "metadata": {
  "kernelspec": {
   "display_name": "Python 3 (ipykernel)",
   "language": "python",
   "name": "python3"
  },
  "language_info": {
   "codemirror_mode": {
    "name": "ipython",
    "version": 3
   },
   "file_extension": ".py",
   "mimetype": "text/x-python",
   "name": "python",
   "nbconvert_exporter": "python",
   "pygments_lexer": "ipython3",
   "version": "3.11.6"
  }
 },
 "nbformat": 4,
 "nbformat_minor": 5
}
