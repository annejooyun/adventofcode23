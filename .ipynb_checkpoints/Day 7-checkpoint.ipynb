{
 "cells": [
  {
   "cell_type": "code",
   "execution_count": 1,
   "id": "9f8aec6d-daed-4ca3-8049-f63f6fb9bb5b",
   "metadata": {},
   "outputs": [],
   "source": [
    "# Import key libraries and paths\n",
    "import warnings\n",
    "warnings.filterwarnings(\"ignore\")\n",
    "import numpy as np\n",
    "import pandas as pd"
   ]
  },
  {
   "cell_type": "code",
   "execution_count": 2,
   "id": "5441a0e6-db03-4d21-b733-12d694e28442",
   "metadata": {},
   "outputs": [],
   "source": [
    "#path = 'C:/Users/Anne Joo Marthinsen/Documents/GitHub/adventofcode'\n",
    "path = 'C:/Users/annej/OneDrive/Documents/GitHub/adventofcode23'\n",
    "with open('day7-camel_cards_ex.txt') as f:\n",
    "    lines = f.readlines()"
   ]
  },
  {
   "cell_type": "code",
   "execution_count": 8,
   "id": "7b02ad48-3c0f-4f1b-aa87-590c6b84c619",
   "metadata": {},
   "outputs": [],
   "source": [
    "cards = {'2':2, '3':3, '4':4, '5':5, '6':6, '7':7, '8':8, '9':9, 'T':10, 'J':11, 'Q':12, 'K':13, 'A':14}"
   ]
  },
  {
   "cell_type": "code",
   "execution_count": null,
   "id": "9c95034e-7038-481a-ae9a-604a3c0a2756",
   "metadata": {},
   "outputs": [],
   "source": [
    "def determine_hand_type(hand):\n",
    "    #find correct handtype\n",
    "    return hand_type\n",
    "\n",
    "\n",
    "def sort_hand_type():\n",
    "    #sorting within handtype array"
   ]
  },
  {
   "cell_type": "code",
   "execution_count": 7,
   "id": "36bb1dd1-1e6b-4fb1-9cff-32909cf4e76e",
   "metadata": {},
   "outputs": [
    {
     "name": "stdout",
     "output_type": "stream",
     "text": [
      "['32T3K 765\\n', 'T55J5 684\\n', 'KK677 28\\n', 'KTJJT 220\\n', 'QQQJA 483']\n",
      "32T3K\n",
      "765\n",
      "T55J5\n",
      "684\n",
      "KK677\n",
      "28\n",
      "KTJJT\n",
      "220\n",
      "QQQJA\n",
      "483\n"
     ]
    }
   ],
   "source": [
    "print(lines)\n",
    "for line in lines:\n",
    "    hand, bid = line.split(' ')\n",
    "    bid = int(bid)\n",
    "    print(hand)\n",
    "    print(bid)"
   ]
  }
 ],
 "metadata": {
  "kernelspec": {
   "display_name": "Python 3 (ipykernel)",
   "language": "python",
   "name": "python3"
  },
  "language_info": {
   "codemirror_mode": {
    "name": "ipython",
    "version": 3
   },
   "file_extension": ".py",
   "mimetype": "text/x-python",
   "name": "python",
   "nbconvert_exporter": "python",
   "pygments_lexer": "ipython3",
   "version": "3.11.6"
  }
 },
 "nbformat": 4,
 "nbformat_minor": 5
}
