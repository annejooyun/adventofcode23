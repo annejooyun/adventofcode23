{
 "cells": [
  {
   "cell_type": "code",
   "execution_count": 1,
   "id": "9f8aec6d-daed-4ca3-8049-f63f6fb9bb5b",
   "metadata": {},
   "outputs": [],
   "source": [
    "# Import key libraries and paths\n",
    "import warnings\n",
    "warnings.filterwarnings(\"ignore\")\n",
    "import numpy as np\n",
    "import pandas as pd"
   ]
  },
  {
   "cell_type": "code",
   "execution_count": 2,
   "id": "5441a0e6-db03-4d21-b733-12d694e28442",
   "metadata": {},
   "outputs": [],
   "source": [
    "#path = 'C:/Users/Anne Joo Marthinsen/Documents/GitHub/adventofcode'\n",
    "path = 'C:/Users/annej/OneDrive/Documents/GitHub/adventofcode23'\n",
    "with open('day7-camel_cards_ex.txt') as f:\n",
    "    lines = f.readlines()"
   ]
  },
  {
   "cell_type": "code",
   "execution_count": 3,
   "id": "7b02ad48-3c0f-4f1b-aa87-590c6b84c619",
   "metadata": {},
   "outputs": [],
   "source": [
    "cards = {'2':2, '3':3, '4':4, '5':5, '6':6, '7':7, '8':8, '9':9, 'T':10, 'J':11, 'Q':12, 'K':13, 'A':14}"
   ]
  },
  {
   "cell_type": "code",
   "execution_count": 18,
   "id": "9c95034e-7038-481a-ae9a-604a3c0a2756",
   "metadata": {},
   "outputs": [],
   "source": [
    "def determine_hand_type(hand):\n",
    "    #find correct handtype\n",
    "    num_cards_type = {'2':0, '3':0, '4':0, '5':0, '6':0, '7':0, '8':0, '9':0, 'T':0, 'J':0, 'Q':0, 'K':0, 'A':0}\n",
    "    for card in hand:\n",
    "        num_cards_type[card] += 1\n",
    "\n",
    "    value = max(num_cards_type.values())\n",
    "    if value == 5:\n",
    "        return 'Five'\n",
    "    elif value == 4:\n",
    "        return 'Four'\n",
    "    elif value == 3:\n",
    "        for value_ in num_cards_type.values():\n",
    "            if value_ == 2:\n",
    "                return 'Full house'\n",
    "        return 'Three'\n",
    "    elif value == 2:\n",
    "        pair_count = 0\n",
    "        for value_ in num_cards_type.values():\n",
    "            if value_ == 2:\n",
    "                pair_count += 1\n",
    "        if pair_count == 2:\n",
    "            return 'Two pair'\n",
    "        else:\n",
    "            return 'One pair'\n",
    "    else:\n",
    "        return 'High card'\n",
    "\n",
    "\n",
    "\n",
    "\n",
    "def sort_hand_type(hand_list):\n",
    "    #sorting within handtype \n",
    "    #['KK677', 'KTJJT', '22998']\n",
    "    sorted_hand_list = []\n",
    "    hands = hand_list.keys()\n",
    "    \n",
    "    \n",
    "    pass"
   ]
  },
  {
   "cell_type": "code",
   "execution_count": 31,
   "id": "846a6755-3bfe-45bb-ab82-fe9e357101eb",
   "metadata": {},
   "outputs": [
    {
     "name": "stdout",
     "output_type": "stream",
     "text": [
      "[5, 6, 11, 12, 13]\n"
     ]
    }
   ],
   "source": [
    "def insertion_sort(hands):\n",
    "    n = len(hands)  # Get the length of the array\n",
    "      \n",
    "    if n <= 1:\n",
    "        return # If the handsay has 0 or 1 element, it is already sorted, so return\n",
    " \n",
    "    for i in range(1, n):  # Iterate over the array starting from the second element\n",
    "        key = hands[i]  # Store the current element as the key to be inserted in the right position\n",
    "        j = i-1\n",
    "        while j >= 0 and key < hands[j]:  # Move elements greater than key one position ahead\n",
    "            hands[j+1] = hands[j]  # Shift elements to the right\n",
    "            j -= 1\n",
    "        hands[j+1] = key  # Insert the key in the correct position\n",
    "  \n",
    "# Sorting the array [12, 11, 13, 5, 6] using insertionSort\n",
    "hand = [12, 11, 13, 5, 6]\n",
    "insertion_sort(hand)\n",
    "print(hand)"
   ]
  },
  {
   "cell_type": "code",
   "execution_count": 30,
   "id": "36bb1dd1-1e6b-4fb1-9cff-32909cf4e76e",
   "metadata": {},
   "outputs": [
    {
     "name": "stdout",
     "output_type": "stream",
     "text": [
      "One pair\n",
      "Three\n",
      "Two pair\n",
      "Two pair\n",
      "Three\n",
      "Four\n",
      "Full house\n",
      "Full house\n",
      "Two pair\n",
      "dict_keys(['KK677', 'KTJJT', '22998'])\n"
     ]
    },
    {
     "ename": "TypeError",
     "evalue": "'<' not supported between instances of 'NoneType' and 'NoneType'",
     "output_type": "error",
     "traceback": [
      "\u001b[1;31m---------------------------------------------------------------------------\u001b[0m",
      "\u001b[1;31mTypeError\u001b[0m                                 Traceback (most recent call last)",
      "Cell \u001b[1;32mIn[30], line 28\u001b[0m\n\u001b[0;32m     25\u001b[0m     selected_dict[hand] \u001b[38;5;241m=\u001b[39m bid\n\u001b[0;32m     27\u001b[0m \u001b[38;5;28mprint\u001b[39m(two_pair\u001b[38;5;241m.\u001b[39mkeys())\n\u001b[1;32m---> 28\u001b[0m sorted_two_pair \u001b[38;5;241m=\u001b[39m \u001b[38;5;28;43msorted\u001b[39;49m\u001b[43m(\u001b[49m\u001b[43mtwo_pair\u001b[49m\u001b[43m,\u001b[49m\u001b[43m \u001b[49m\u001b[43mkey\u001b[49m\u001b[38;5;241;43m=\u001b[39;49m\u001b[38;5;28;43;01mlambda\u001b[39;49;00m\u001b[43m \u001b[49m\u001b[43mx\u001b[49m\u001b[43m:\u001b[49m\u001b[43m \u001b[49m\u001b[43mcards\u001b[49m\u001b[38;5;241;43m.\u001b[39;49m\u001b[43mget\u001b[49m\u001b[43m(\u001b[49m\u001b[43mx\u001b[49m\u001b[43m)\u001b[49m\u001b[43m)\u001b[49m\n\u001b[0;32m     30\u001b[0m \u001b[38;5;28mprint\u001b[39m(sorted_two_pair)\n",
      "\u001b[1;31mTypeError\u001b[0m: '<' not supported between instances of 'NoneType' and 'NoneType'"
     ]
    }
   ],
   "source": [
    "five = {}\n",
    "four = {}\n",
    "full_house = {}\n",
    "three = {}\n",
    "two_pair = {}\n",
    "one_pair = {}\n",
    "high_card = {}\n",
    "\n",
    "hand_type_dict = {\n",
    "    'Five': five,\n",
    "    'Four': four,\n",
    "    'Full house': full_house,\n",
    "    'Three': three,\n",
    "    'Two pair': two_pair,\n",
    "    'One pair': one_pair,\n",
    "    'High card': high_card\n",
    "}\n",
    "\n",
    "for line in lines:\n",
    "    hand, bid = line.split(' ')\n",
    "    bid = int(bid)\n",
    "    hand_type = determine_hand_type(hand)\n",
    "    print(hand_type)\n",
    "    selected_dict = hand_type_dict.get(hand_type)\n",
    "    selected_dict[hand] = bid\n",
    "\n",
    "print(two_pair.keys())\n",
    "print(sorted_two_pair)"
   ]
  }
 ],
 "metadata": {
  "kernelspec": {
   "display_name": "Python 3 (ipykernel)",
   "language": "python",
   "name": "python3"
  },
  "language_info": {
   "codemirror_mode": {
    "name": "ipython",
    "version": 3
   },
   "file_extension": ".py",
   "mimetype": "text/x-python",
   "name": "python",
   "nbconvert_exporter": "python",
   "pygments_lexer": "ipython3",
   "version": "3.11.6"
  }
 },
 "nbformat": 4,
 "nbformat_minor": 5
}
