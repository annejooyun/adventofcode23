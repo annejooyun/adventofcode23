{
 "cells": [
  {
   "cell_type": "code",
   "execution_count": 1,
   "id": "08245933-6cf9-4a1e-a46f-e1fb295c1882",
   "metadata": {},
   "outputs": [],
   "source": [
    "# Import key libraries and paths\n",
    "import warnings\n",
    "warnings.filterwarnings(\"ignore\")\n",
    "import numpy as np\n",
    "import pandas as pd"
   ]
  },
  {
   "cell_type": "code",
   "execution_count": 2,
   "id": "12c88519-4a10-45bf-af27-c5e6e2a93751",
   "metadata": {},
   "outputs": [],
   "source": [
    "#path = 'C:/Users/Anne Joo Marthinsen/Documents/GitHub/adventofcode'\n",
    "path = 'C:/Users/annej/OneDrive/Documents/GitHub/adventofcode23'\n",
    "with open('day6-races_ex.txt') as f:\n",
    "    lines = f.readlines()"
   ]
  },
  {
   "cell_type": "code",
   "execution_count": 32,
   "id": "f4c4c5b5-4218-480b-8564-bba5e5a73fd3",
   "metadata": {},
   "outputs": [
    {
     "name": "stdout",
     "output_type": "stream",
     "text": [
      "[7, 15, 30]\n",
      "[9, 40, 200]\n"
     ]
    }
   ],
   "source": [
    "def get_numbers():\n",
    "    times = []\n",
    "    distances = []\n",
    "    for i in range(len(lines)):\n",
    "        line = lines[i]\n",
    "        category, numbers = line.split(':')\n",
    "        numbers = numbers.split(' ')\n",
    "        for num in numbers:\n",
    "            if num == '' or num == '\\n':\n",
    "                continue\n",
    "            else:\n",
    "                if i == 0:\n",
    "                    times.append(int(num))\n",
    "                elif i == 1:\n",
    "                    distances.append(int(num))\n",
    "    return times, distances\n",
    "\n",
    "\n",
    "times, distances = get_numbers()\n",
    "\n",
    "print(times)\n",
    "print(distances)"
   ]
  },
  {
   "cell_type": "code",
   "execution_count": 44,
   "id": "87019249-e61d-4d05-bc9f-a0f6113d882f",
   "metadata": {},
   "outputs": [
    {
     "name": "stdout",
     "output_type": "stream",
     "text": [
      "0\n",
      "1\n",
      "2\n",
      "3\n",
      "4\n",
      "5\n",
      "6\n",
      "7\n",
      "5\n"
     ]
    }
   ],
   "source": [
    "def calculate_num_wins(time, distance):\n",
    "    tot_wins = 0\n",
    "    for i in range(time+1):\n",
    "        print(i)\n",
    "        # i signifies time held on the button and thus speed\n",
    "        if (time-i)*i + i > distance:\n",
    "            tot_wins += 1\n",
    "    return tot_wins\n",
    "\n",
    "print(calculate_num_wins(7,9))"
   ]
  }
 ],
 "metadata": {
  "kernelspec": {
   "display_name": "Python 3 (ipykernel)",
   "language": "python",
   "name": "python3"
  },
  "language_info": {
   "codemirror_mode": {
    "name": "ipython",
    "version": 3
   },
   "file_extension": ".py",
   "mimetype": "text/x-python",
   "name": "python",
   "nbconvert_exporter": "python",
   "pygments_lexer": "ipython3",
   "version": "3.11.6"
  }
 },
 "nbformat": 4,
 "nbformat_minor": 5
}
